{
 "cells": [
  {
   "cell_type": "code",
   "execution_count": 1,
   "metadata": {},
   "outputs": [
    {
     "ename": "ModuleNotFoundError",
     "evalue": "No module named 'pandas'",
     "output_type": "error",
     "traceback": [
      "\u001b[1;31m---------------------------------------------------------------------------\u001b[0m",
      "\u001b[1;31mModuleNotFoundError\u001b[0m                       Traceback (most recent call last)",
      "\u001b[1;32m<ipython-input-1-8d5f418b4271>\u001b[0m in \u001b[0;36m<module>\u001b[1;34m\u001b[0m\n\u001b[0;32m      1\u001b[0m \u001b[1;32mimport\u001b[0m \u001b[0mnumpy\u001b[0m \u001b[1;32mas\u001b[0m \u001b[0mnp\u001b[0m\u001b[1;33m\u001b[0m\u001b[1;33m\u001b[0m\u001b[0m\n\u001b[1;32m----> 2\u001b[1;33m \u001b[1;32mimport\u001b[0m \u001b[0mpandas\u001b[0m \u001b[1;32mas\u001b[0m \u001b[0mpd\u001b[0m\u001b[1;33m\u001b[0m\u001b[1;33m\u001b[0m\u001b[0m\n\u001b[0m\u001b[0;32m      3\u001b[0m \u001b[1;32mimport\u001b[0m \u001b[0mmatplotlib\u001b[0m\u001b[1;33m.\u001b[0m\u001b[0mpyplot\u001b[0m \u001b[1;32mas\u001b[0m \u001b[0mplt\u001b[0m\u001b[1;33m\u001b[0m\u001b[1;33m\u001b[0m\u001b[0m\n\u001b[0;32m      4\u001b[0m \u001b[1;32mimport\u001b[0m \u001b[0mseaborn\u001b[0m \u001b[1;32mas\u001b[0m \u001b[0msns\u001b[0m\u001b[1;33m\u001b[0m\u001b[1;33m\u001b[0m\u001b[0m\n\u001b[0;32m      5\u001b[0m \u001b[1;32mfrom\u001b[0m \u001b[0mpylab\u001b[0m \u001b[1;32mimport\u001b[0m \u001b[0msavefig\u001b[0m\u001b[1;33m\u001b[0m\u001b[1;33m\u001b[0m\u001b[0m\n",
      "\u001b[1;31mModuleNotFoundError\u001b[0m: No module named 'pandas'"
     ]
    }
   ],
   "source": [
    "import numpy as np\n",
    "import pandas as pd\n",
    "import matplotlib.pyplot as plt\n",
    "import seaborn as sns\n",
    "from pylab import savefig\n",
    "from sklearn.ensemble import IsolationForest\n",
    "from sklearn.preprocessing import MinMaxScaler\n",
    "from sklearn.model_selection import train_test_split\n",
    "from sklearn.metrics import confusion_matrix, classification_report"
   ]
  },
  {
   "cell_type": "code",
   "execution_count": null,
   "metadata": {},
   "outputs": [],
   "source": [
    "df = pd.read_csv(\"HRSS_anomalous_optimized_new.csv\")\n",
    "df_1 = df.drop([\"Sl. No.\", \"Timestamp\", \"Training\", \"Labels\"], axis = 1)\n",
    "df_1.head(5)"
   ]
  },
  {
   "cell_type": "code",
   "execution_count": null,
   "metadata": {},
   "outputs": [],
   "source": [
    "df_label = df[\"Labels\"]"
   ]
  },
  {
   "cell_type": "code",
   "execution_count": null,
   "metadata": {},
   "outputs": [],
   "source": [
    "#creating dataframe for boxplots\n",
    "df_boxplot = pd.DataFrame(df_1[[\"O_w_HL_power\", \"O_w_BHR_power\"]], columns = [\"O_w_HL_power\", \"O_w_BHR_power\"])\n",
    "# detecting anomaly for a univariate variable\n",
    "plt.figure(figsize = (12, 8))\n",
    "df_boxplot.boxplot()"
   ]
  },
  {
   "cell_type": "code",
   "execution_count": null,
   "metadata": {},
   "outputs": [],
   "source": [
    "# Using boxplot formula to label the outliers in the dataframe detected by boxplot for O_w_HL_power\n",
    "Q1 = df_1[\"O_w_HL_power\"].quantile(0.25)\n",
    "Q3 = df_1[\"O_w_HL_power\"].quantile(0.75)\n",
    "IQR = Q3 - Q1\n",
    "\n",
    "df_1[\"label_boxplot_O_w_HL_power\"] = np.where((df_1[\"O_w_HL_power\"] >= Q1 - 1.5 * IQR) & (df_1[\"O_w_HL_power\"] <= Q3 + 1.5 *IQR), 0,1)\n",
    "df_1.label_boxplot_O_w_HL_power.value_counts()"
   ]
  },
  {
   "cell_type": "code",
   "execution_count": null,
   "metadata": {},
   "outputs": [],
   "source": [
    "# Using boxplot formula to label the outliers in the dataframe detected by boxplot for O_w_BHR_power\n",
    "Q1 = df_1[\"O_w_BHR_power\"].quantile(0.25)\n",
    "Q3 = df_1[\"O_w_BHR_power\"].quantile(0.75)\n",
    "IQR = Q3 - Q1\n",
    "\n",
    "df_1[\"label_boxplot_O_w_BHR_power\"] = np.where((df_1[\"O_w_BHR_power\"] >= Q1 - 1.5 * IQR) & (df_1[\"O_w_BHR_power\"] <= Q3 + 1.5 *IQR), 0,1)\n",
    "df_1.label_boxplot_O_w_BHR_power.value_counts()"
   ]
  },
  {
   "cell_type": "code",
   "execution_count": null,
   "metadata": {},
   "outputs": [],
   "source": [
    "df_1.head(5)"
   ]
  },
  {
   "cell_type": "code",
   "execution_count": null,
   "metadata": {},
   "outputs": [],
   "source": [
    "df_2 = df_1.drop([\"label_boxplot_O_w_BHR_power\", \"label_boxplot_O_w_HL_power\"], axis = 1)"
   ]
  },
  {
   "cell_type": "markdown",
   "metadata": {},
   "source": [
    "### Using Isolation Forest for multivariate anomaly detection"
   ]
  },
  {
   "cell_type": "code",
   "execution_count": null,
   "metadata": {},
   "outputs": [],
   "source": [
    "df_2.columns"
   ]
  },
  {
   "cell_type": "code",
   "execution_count": null,
   "metadata": {},
   "outputs": [],
   "source": [
    "# scaling the data\n",
    "scaler = MinMaxScaler()\n",
    "df_2_scaled = scaler.fit_transform(df_2)\n",
    "#transforming to dataframe\n",
    "df_2_scaled = pd.DataFrame(df_2_scaled, columns = ['I_w_BLO_Weg', 'O_w_BLO_power', 'O_w_BLO_voltage', 'I_w_BHL_Weg',\n",
    "       'O_w_BHL_power', 'O_w_BHL_voltage', 'I_w_BHR_Weg', 'O_w_BHR_power',\n",
    "       'O_w_BHR_voltage', 'I_w_BRU_Weg', 'O_w_BRU_power', 'O_w_BRU_voltage',\n",
    "       'I_w_HR_Weg', 'O_w_HR_power', 'O_w_HR_voltage', 'I_w_HL_Weg',\n",
    "       'O_w_HL_power', 'O_w_HL_voltage'])"
   ]
  },
  {
   "cell_type": "code",
   "execution_count": null,
   "metadata": {},
   "outputs": [],
   "source": [
    "df_2_scaled_w_label = df_2_scaled.join(df_label)"
   ]
  },
  {
   "cell_type": "code",
   "execution_count": null,
   "metadata": {},
   "outputs": [],
   "source": [
    "# running isolation forest\n",
    "clf=IsolationForest(n_estimators=50, max_samples=6000, contamination=float(.20), \\\n",
    "                        max_features=1.0, bootstrap=False, random_state=42, verbose=0, behaviour = \"new\")"
   ]
  },
  {
   "cell_type": "code",
   "execution_count": null,
   "metadata": {},
   "outputs": [],
   "source": [
    "# taking all observations of the dataset to detect anomaly\n",
    "clf.fit(df_2_scaled)\n",
    "pred_all = clf.predict(df_2_scaled)\n",
    "df_2_scaled_w_label[\"pred_if\"] = pred_all"
   ]
  },
  {
   "cell_type": "code",
   "execution_count": null,
   "metadata": {},
   "outputs": [],
   "source": [
    "df_2_scaled_w_label[\"pred_if\"] = np.where(df_2_scaled_w_label[\"pred_if\"] == 1, 0, 1)"
   ]
  },
  {
   "cell_type": "code",
   "execution_count": null,
   "metadata": {},
   "outputs": [],
   "source": [
    "df_2_scaled_w_label.pred_if.value_counts()"
   ]
  },
  {
   "cell_type": "code",
   "execution_count": null,
   "metadata": {},
   "outputs": [],
   "source": [
    "df_2_scaled_w_label[\"anomaly_score\"] = clf.decision_function(df_2_scaled)"
   ]
  },
  {
   "cell_type": "code",
   "execution_count": null,
   "metadata": {},
   "outputs": [],
   "source": [
    "df_2_scaled_w_label.head(5)"
   ]
  },
  {
   "cell_type": "code",
   "execution_count": null,
   "metadata": {},
   "outputs": [],
   "source": [
    "# generating classification report and confusion matrix\n",
    "print(\"Classification Report: \\n\", classification_report(df_2_scaled_w_label.Labels, df_2_scaled_w_label.pred_if))\n",
    "print(\"Confusion Matrix: \\n\", confusion_matrix(df_2_scaled_w_label.Labels, df_2_scaled_w_label.pred_if))"
   ]
  },
  {
   "cell_type": "code",
   "execution_count": null,
   "metadata": {},
   "outputs": [],
   "source": [
    "# importing the relevant datasets to excel\n",
    "df_1.to_excel(\"df_boxplot_anomalies1.xlsx\")\n",
    "df_2_scaled_w_label.to_excel(\"df_isolation_forest_anomalies1.xlsx\")"
   ]
  },
  {
   "cell_type": "code",
   "execution_count": null,
   "metadata": {},
   "outputs": [],
   "source": []
  }
 ],
 "metadata": {
  "kernelspec": {
   "display_name": "Python 3",
   "language": "python",
   "name": "python3"
  },
  "language_info": {
   "codemirror_mode": {
    "name": "ipython",
    "version": 3
   },
   "file_extension": ".py",
   "mimetype": "text/x-python",
   "name": "python",
   "nbconvert_exporter": "python",
   "pygments_lexer": "ipython3",
   "version": "3.6.9"
  }
 },
 "nbformat": 4,
 "nbformat_minor": 2
}
